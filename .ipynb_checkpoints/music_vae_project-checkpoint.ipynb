{
 "cells": [
  {
   "cell_type": "code",
   "execution_count": 16,
   "metadata": {},
   "outputs": [],
   "source": [
    "import tensorflow as tf\n",
    "import magenta.models.music_vae as vae"
   ]
  },
  {
   "cell_type": "code",
   "execution_count": 18,
   "metadata": {},
   "outputs": [
    {
     "name": "stdout",
     "output_type": "stream",
     "text": [
      "['BaseDecoder', 'BaseEncoder', 'BaseLstmDecoder', 'BidirectionalLstmEncoder', 'CategoricalLstmDecoder', 'Config', 'HierarchicalLstmDecoder', 'HierarchicalLstmEncoder', 'MultiOutCategoricalLstmDecoder', 'MusicVAE', 'SplitMultiOutLstmDecoder', 'TrainedModel', '__builtins__', '__cached__', '__doc__', '__file__', '__loader__', '__name__', '__package__', '__path__', '__spec__', 'absolute_import', 'base_model', 'configs', 'data', 'data_hierarchical', 'division', 'lstm_models', 'lstm_utils', 'print_function', 'trained_model', 'update_config']\n"
     ]
    }
   ],
   "source": [
    "print(dir(vae))"
   ]
  }
 ],
 "metadata": {
  "kernelspec": {
   "display_name": "Python 3",
   "language": "python",
   "name": "python3"
  },
  "language_info": {
   "codemirror_mode": {
    "name": "ipython",
    "version": 3
   },
   "file_extension": ".py",
   "mimetype": "text/x-python",
   "name": "python",
   "nbconvert_exporter": "python",
   "pygments_lexer": "ipython3",
   "version": "3.7.4"
  }
 },
 "nbformat": 4,
 "nbformat_minor": 2
}
